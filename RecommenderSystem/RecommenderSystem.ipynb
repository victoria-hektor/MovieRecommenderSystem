{
  "nbformat": 4,
  "nbformat_minor": 0,
  "metadata": {
    "colab": {
      "provenance": []
    },
    "kernelspec": {
      "name": "python3",
      "display_name": "Python 3"
    },
    "language_info": {
      "name": "python"
    }
  },
  "cells": [
    {
      "cell_type": "markdown",
      "source": [
        "Simple Movie Recommendation System Idea\n",
        "\n",
        "Objective:\n",
        "\n",
        "Create a basic movie recommendation system using Python that suggests similar movies to a user based on a movie they have already liked.\n",
        "\n",
        "Approach:\n",
        "\n",
        "You can use the cosine similarity metric to find movies that are most similar to a selected movie based on genres, and then recommend them to the user. The dataset used will be a small, structured movie dataset that includes movie titles, genres, and ratings.\n",
        "\n",
        "Implementation Plan:\n",
        "\n",
        "Dataset: Use the MovieLens dataset (small version) which contains information on movies, their genres, and user ratings. Download the movies.csv file, which contains columns like movieId, title, and genres.\n",
        "\n",
        "Steps to Build:\n",
        "\n",
        "Import Libraries:"
      ],
      "metadata": {
        "id": "G1r-4mbts38R"
      }
    },
    {
      "cell_type": "code",
      "execution_count": 1,
      "metadata": {
        "id": "rssGOIlls1ru"
      },
      "outputs": [],
      "source": [
        "import pandas as pd\n",
        "from sklearn.metrics.pairwise import cosine_similarity\n",
        "from sklearn.feature_extraction.text import CountVectorizer"
      ]
    },
    {
      "cell_type": "markdown",
      "source": [
        "Upload dataset, we are using this one: https://www.kaggle.com/datasets/shubhammehta21/movie-lens-small-latest-dataset\n"
      ],
      "metadata": {
        "id": "J7lnEpVBtIRM"
      }
    },
    {
      "cell_type": "code",
      "source": [
        "# Load dataset\n",
        "movies = pd.read_csv(\"movies.csv\")\n",
        "\n",
        "# Preview dataset\n",
        "print(movies.head())"
      ],
      "metadata": {
        "colab": {
          "base_uri": "https://localhost:8080/"
        },
        "id": "9InzRLrMtMDn",
        "outputId": "4c4fc5b0-10b1-4f08-b9ec-de4bdd3fd593"
      },
      "execution_count": 3,
      "outputs": [
        {
          "output_type": "stream",
          "name": "stdout",
          "text": [
            "   movieId                               title  \\\n",
            "0        1                    Toy Story (1995)   \n",
            "1        2                      Jumanji (1995)   \n",
            "2        3             Grumpier Old Men (1995)   \n",
            "3        4            Waiting to Exhale (1995)   \n",
            "4        5  Father of the Bride Part II (1995)   \n",
            "\n",
            "                                        genres  \n",
            "0  Adventure|Animation|Children|Comedy|Fantasy  \n",
            "1                   Adventure|Children|Fantasy  \n",
            "2                               Comedy|Romance  \n",
            "3                         Comedy|Drama|Romance  \n",
            "4                                       Comedy  \n"
          ]
        }
      ]
    },
    {
      "cell_type": "markdown",
      "source": [
        "Feature Engineering: Convert the genres into a format that can be used to compute similarity (e.g., a count matrix)."
      ],
      "metadata": {
        "id": "VmS6NY8MtoFZ"
      }
    },
    {
      "cell_type": "code",
      "source": [
        "# Combine genres into a single string for each movie\n",
        "movies['genres'] = movies['genres'].apply(lambda x: x.replace('|', ' '))\n",
        "\n",
        "# Create the count matrix using CountVectorizer\n",
        "count_vectorizer = CountVectorizer()\n",
        "count_matrix = count_vectorizer.fit_transform(movies['genres'])"
      ],
      "metadata": {
        "id": "ZrCy55MStox-"
      },
      "execution_count": 4,
      "outputs": []
    },
    {
      "cell_type": "markdown",
      "source": [
        "Calculate Cosine Similarity: Use cosine similarity to find movies that are similar based on genres."
      ],
      "metadata": {
        "id": "7Fypqc0PtsLR"
      }
    },
    {
      "cell_type": "code",
      "source": [
        "# Compute the cosine similarity matrix\n",
        "cosine_sim = cosine_similarity(count_matrix, count_matrix)\n"
      ],
      "metadata": {
        "id": "knxd7_YMtsq6"
      },
      "execution_count": 5,
      "outputs": []
    },
    {
      "cell_type": "markdown",
      "source": [
        "Recommendation Function: Write a function that takes a movie title as input and recommends the top 5 similar movies."
      ],
      "metadata": {
        "id": "pucKvsRYtyhw"
      }
    },
    {
      "cell_type": "code",
      "source": [
        "def recommend_movies(title, cosine_sim=cosine_sim):\n",
        "    # Get the index of the movie that matches the title\n",
        "    idx = movies[movies['title'] == title].index[0]\n",
        "\n",
        "    # Get the pairwise similarity scores for all movies\n",
        "    sim_scores = list(enumerate(cosine_sim[idx]))\n",
        "\n",
        "    # Sort the movies based on the similarity scores\n",
        "    sim_scores = sorted(sim_scores, key=lambda x: x[1], reverse=True)\n",
        "\n",
        "    # Get the indices of the top 5 most similar movies\n",
        "    sim_scores = sim_scores[1:6]\n",
        "\n",
        "    # Get the movie titles\n",
        "    movie_indices = [i[0] for i in sim_scores]\n",
        "    return movies['title'].iloc[movie_indices]"
      ],
      "metadata": {
        "id": "NLqOVQi2tzNE"
      },
      "execution_count": 6,
      "outputs": []
    },
    {
      "cell_type": "markdown",
      "source": [
        "Test the Recommender System: Test your recommender system by passing in a movie title."
      ],
      "metadata": {
        "id": "I-nTy2DLt3IM"
      }
    },
    {
      "cell_type": "code",
      "source": [
        "# Test the recommendation function\n",
        "print(recommend_movies(\"Toy Story (1995)\"))"
      ],
      "metadata": {
        "colab": {
          "base_uri": "https://localhost:8080/"
        },
        "id": "3oLNXe_ft4fL",
        "outputId": "06ba0a69-dca7-4ecd-c16a-cfcba6e3301c"
      },
      "execution_count": 7,
      "outputs": [
        {
          "output_type": "stream",
          "name": "stdout",
          "text": [
            "1706                                       Antz (1998)\n",
            "2355                                Toy Story 2 (1999)\n",
            "2809    Adventures of Rocky and Bullwinkle, The (2000)\n",
            "3000                  Emperor's New Groove, The (2000)\n",
            "3568                             Monsters, Inc. (2001)\n",
            "Name: title, dtype: object\n"
          ]
        }
      ]
    }
  ]
}